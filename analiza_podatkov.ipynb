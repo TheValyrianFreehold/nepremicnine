{
 "cells": [
  {
   "cell_type": "markdown",
   "metadata": {},
   "source": [
    "# ANALIZA REZULTATOV IGER IZ GO TURNIRJEV"
   ]
  },
  {
   "cell_type": "markdown",
   "metadata": {},
   "source": [
    "Analizirali bomo podatke o igrah iz Go turnirjev. Vprašali se bomo, katera barva največ zmaguje, kak vpliv ima rang igralca na verjetnost zmage in kako dobro so se različne države izkazale na mednarodnih turnirjih. Spremljali bomo tudi, kako se odgovori na ta vprašanja spreminjajo skozi leta. Ogledali si bomo, kdo so najboljši igralci. Za konec bomo poskušali iz imena igralca predvideti njegovo narodnost."
   ]
  },
  {
   "cell_type": "markdown",
   "metadata": {},
   "source": [
    "Go je starodavna kitajska igra za dva igralca. Eden izmed igralcev igra s črnimi kamni, drugi pa z belimi. Igro začne igralec s črnimi kamni. Običajno se igra na plošči velikosti 19x19, pogosto pa tudi na ploščah velikosti 9x9 in 13x13. Igra ima 3 osnovna pravila:\n",
    "- Igralec, ki je na potezi, na eno izmed prostih križišč položi kamen svoje barve. S tem je njegova poteza končana.\n",
    "- Če je kamen povsem obkoljen s kamni druge barve tako, da se ne dotika nobenega praznega križišča, je pobran s plošče. Kamni iste barve, ki ležijo na sosednjih križiščih, si delijo prazna križišča.\n",
    "- Igra se konča, ko se oba igralca strinjata, da nimata več smiselnih potez. Vsak igralec je dosegel število točk, ki je enako številu pobranih nasprotnikovih kamnov skupaj s številom praznih križišč, ki mu pripadajo. Belemu igralcu se, ker ima prvo potezo črni, dodeli dodatnih 7.5 točk. Zmaga igralec z več točkami. Prazno križišče pripada igralcu, če ga obkroža <i>živa</i> skupina njegovih kamnov. Za skupino kamnov pravimo, da je živa, če je nasprotnik ne more pobrati, torej če lahko zagotovi, da bodo kamni vedno v stiku z vsaj dvema praznima križiščema. Le-tem ključnim križiščem pravimo <i>oči</i>."
   ]
  },
  {
   "cell_type": "markdown",
   "metadata": {},
   "source": [
    "**Nalaganje in priprava podatkov**"
   ]
  },
  {
   "cell_type": "markdown",
   "metadata": {},
   "source": [
    "Najprej naložimo knjižnice, ki jih bomo uporabljali. S knjižnico pandas bomo upravljali s podatki, numpy nam bo pomagal pri računanju z matrikami, s knjižnico matplotlib pa bomo risali grafe."
   ]
  },
  {
   "cell_type": "code",
   "execution_count": 3,
   "metadata": {},
   "outputs": [],
   "source": [
    "import pandas as pd\n",
    "import numpy as np\n",
    "import matplotlib.pyplot as plt"
   ]
  },
  {
   "cell_type": "markdown",
   "metadata": {},
   "source": [
    "Nato naložimo podatke, ki jih bomo uporabljali. \n",
    "V datoteki podatki_iz_turnirjev.csv imamo shranjenih 104.508 iger. Za vsako vemo, kdaj je bila igrana, na katerem turnirju, kateri igralec je bil bel in kateri črni, kdo je zmagal in kakšna je bila zmaga.\n",
    "V datoteki podatki_o_narodnosti.csv imamo shranjenih 2221 igralcev. Za vsakega poznamo njegovo narodnost."
   ]
  },
  {
   "cell_type": "code",
   "execution_count": 4,
   "metadata": {},
   "outputs": [],
   "source": [
    "podatki_iz_turnirjev = pd.read_csv(\"podatki/podatki_iz_turnirjev.csv\")\n",
    "podatki_o_narodnosti = pd.read_csv(\"podatki/podatki_o_narodnosti.csv\")"
   ]
  },
  {
   "cell_type": "code",
   "execution_count": 5,
   "metadata": {},
   "outputs": [
    {
     "data": {
      "text/html": [
       "<div>\n",
       "<style scoped>\n",
       "    .dataframe tbody tr th:only-of-type {\n",
       "        vertical-align: middle;\n",
       "    }\n",
       "\n",
       "    .dataframe tbody tr th {\n",
       "        vertical-align: top;\n",
       "    }\n",
       "\n",
       "    .dataframe thead th {\n",
       "        text-align: right;\n",
       "    }\n",
       "</style>\n",
       "<table border=\"1\" class=\"dataframe\">\n",
       "  <thead>\n",
       "    <tr style=\"text-align: right;\">\n",
       "      <th></th>\n",
       "      <th>leto</th>\n",
       "      <th>mesec</th>\n",
       "      <th>dan</th>\n",
       "      <th>turnir</th>\n",
       "      <th>igralec_crni</th>\n",
       "      <th>igralec_crni_rang</th>\n",
       "      <th>igralec_beli</th>\n",
       "      <th>igralec_beli_rang</th>\n",
       "      <th>zmagovalec</th>\n",
       "      <th>tip_zmage</th>\n",
       "    </tr>\n",
       "  </thead>\n",
       "  <tbody>\n",
       "    <tr>\n",
       "      <th>0</th>\n",
       "      <td>1969</td>\n",
       "      <td>12</td>\n",
       "      <td>29</td>\n",
       "      <td>1st All-Japan First Place, challenger decision...</td>\n",
       "      <td>Fujisawa Hideyuki</td>\n",
       "      <td>9.0</td>\n",
       "      <td>Sugiuchi Masao</td>\n",
       "      <td>9.0</td>\n",
       "      <td>B</td>\n",
       "      <td>8.5</td>\n",
       "    </tr>\n",
       "    <tr>\n",
       "      <th>1</th>\n",
       "      <td>1969</td>\n",
       "      <td>12</td>\n",
       "      <td>26</td>\n",
       "      <td>17th Japanese NHK Cup, round 2</td>\n",
       "      <td>Go Seigen</td>\n",
       "      <td>9.0</td>\n",
       "      <td>Fujisawa Hideyuki</td>\n",
       "      <td>9.0</td>\n",
       "      <td>W</td>\n",
       "      <td>8.5</td>\n",
       "    </tr>\n",
       "    <tr>\n",
       "      <th>2</th>\n",
       "      <td>1969</td>\n",
       "      <td>12</td>\n",
       "      <td>24</td>\n",
       "      <td>9th Japanese Old Meijin, league</td>\n",
       "      <td>Honda Kunihisa</td>\n",
       "      <td>8.0</td>\n",
       "      <td>Takagawa Kaku</td>\n",
       "      <td>9.0</td>\n",
       "      <td>B</td>\n",
       "      <td>3</td>\n",
       "    </tr>\n",
       "    <tr>\n",
       "      <th>3</th>\n",
       "      <td>1969</td>\n",
       "      <td>12</td>\n",
       "      <td>24</td>\n",
       "      <td>8th Japanese Judan, title match #3</td>\n",
       "      <td>Sakata Eio</td>\n",
       "      <td>9.0</td>\n",
       "      <td>Otake Hideo</td>\n",
       "      <td>8.0</td>\n",
       "      <td>W</td>\n",
       "      <td>R</td>\n",
       "    </tr>\n",
       "    <tr>\n",
       "      <th>4</th>\n",
       "      <td>1969</td>\n",
       "      <td>12</td>\n",
       "      <td>18</td>\n",
       "      <td>9th Japanese Judan, preliminary</td>\n",
       "      <td>Kudo Norio</td>\n",
       "      <td>8.0</td>\n",
       "      <td>Takemiya Masaki</td>\n",
       "      <td>5.0</td>\n",
       "      <td>W</td>\n",
       "      <td>R</td>\n",
       "    </tr>\n",
       "    <tr>\n",
       "      <th>...</th>\n",
       "      <td>...</td>\n",
       "      <td>...</td>\n",
       "      <td>...</td>\n",
       "      <td>...</td>\n",
       "      <td>...</td>\n",
       "      <td>...</td>\n",
       "      <td>...</td>\n",
       "      <td>...</td>\n",
       "      <td>...</td>\n",
       "      <td>...</td>\n",
       "    </tr>\n",
       "    <tr>\n",
       "      <th>104503</th>\n",
       "      <td>2022</td>\n",
       "      <td>1</td>\n",
       "      <td>1</td>\n",
       "      <td>Year 2021 Korean League, round 6</td>\n",
       "      <td>Choi Cheolhan</td>\n",
       "      <td>9.0</td>\n",
       "      <td>Park Yeonghun</td>\n",
       "      <td>9.0</td>\n",
       "      <td>W</td>\n",
       "      <td>R</td>\n",
       "    </tr>\n",
       "    <tr>\n",
       "      <th>104504</th>\n",
       "      <td>2022</td>\n",
       "      <td>1</td>\n",
       "      <td>1</td>\n",
       "      <td>Year 2021 Korean League, round 6</td>\n",
       "      <td>Na Hyun</td>\n",
       "      <td>9.0</td>\n",
       "      <td>Byun Sangil</td>\n",
       "      <td>9.0</td>\n",
       "      <td>B</td>\n",
       "      <td>R</td>\n",
       "    </tr>\n",
       "    <tr>\n",
       "      <th>104505</th>\n",
       "      <td>2022</td>\n",
       "      <td>1</td>\n",
       "      <td>1</td>\n",
       "      <td>Year 2021 Korean League, round 6</td>\n",
       "      <td>Park Geunho</td>\n",
       "      <td>5.0</td>\n",
       "      <td>Park Junghwan</td>\n",
       "      <td>9.0</td>\n",
       "      <td>W</td>\n",
       "      <td>R</td>\n",
       "    </tr>\n",
       "    <tr>\n",
       "      <th>104506</th>\n",
       "      <td>2022</td>\n",
       "      <td>1</td>\n",
       "      <td>1</td>\n",
       "      <td>Year 2021 Korean League, round 6</td>\n",
       "      <td>Kim Jinhwi</td>\n",
       "      <td>5.0</td>\n",
       "      <td>Lee Changseok</td>\n",
       "      <td>8.0</td>\n",
       "      <td>W</td>\n",
       "      <td>R</td>\n",
       "    </tr>\n",
       "    <tr>\n",
       "      <th>104507</th>\n",
       "      <td>2022</td>\n",
       "      <td>1</td>\n",
       "      <td>1</td>\n",
       "      <td>Year 2021 Korean League, round 6</td>\n",
       "      <td>Park Seunghwa</td>\n",
       "      <td>9.0</td>\n",
       "      <td>Park Jonghoon</td>\n",
       "      <td>5.0</td>\n",
       "      <td>W</td>\n",
       "      <td>R</td>\n",
       "    </tr>\n",
       "  </tbody>\n",
       "</table>\n",
       "<p>104508 rows × 10 columns</p>\n",
       "</div>"
      ],
      "text/plain": [
       "        leto  mesec  dan                                             turnir  \\\n",
       "0       1969     12   29  1st All-Japan First Place, challenger decision...   \n",
       "1       1969     12   26                     17th Japanese NHK Cup, round 2   \n",
       "2       1969     12   24                    9th Japanese Old Meijin, league   \n",
       "3       1969     12   24                 8th Japanese Judan, title match #3   \n",
       "4       1969     12   18                    9th Japanese Judan, preliminary   \n",
       "...      ...    ...  ...                                                ...   \n",
       "104503  2022      1    1                   Year 2021 Korean League, round 6   \n",
       "104504  2022      1    1                   Year 2021 Korean League, round 6   \n",
       "104505  2022      1    1                   Year 2021 Korean League, round 6   \n",
       "104506  2022      1    1                   Year 2021 Korean League, round 6   \n",
       "104507  2022      1    1                   Year 2021 Korean League, round 6   \n",
       "\n",
       "              igralec_crni  igralec_crni_rang        igralec_beli  \\\n",
       "0       Fujisawa Hideyuki                 9.0     Sugiuchi Masao    \n",
       "1               Go Seigen                 9.0  Fujisawa Hideyuki    \n",
       "2          Honda Kunihisa                 8.0      Takagawa Kaku    \n",
       "3              Sakata Eio                 9.0        Otake Hideo    \n",
       "4              Kudo Norio                 8.0    Takemiya Masaki    \n",
       "...                    ...                ...                 ...   \n",
       "104503      Choi Cheolhan                 9.0      Park Yeonghun    \n",
       "104504            Na Hyun                 9.0        Byun Sangil    \n",
       "104505        Park Geunho                 5.0      Park Junghwan    \n",
       "104506         Kim Jinhwi                 5.0      Lee Changseok    \n",
       "104507      Park Seunghwa                 9.0      Park Jonghoon    \n",
       "\n",
       "        igralec_beli_rang zmagovalec tip_zmage  \n",
       "0                     9.0          B       8.5  \n",
       "1                     9.0          W       8.5  \n",
       "2                     9.0          B         3  \n",
       "3                     8.0          W         R  \n",
       "4                     5.0          W         R  \n",
       "...                   ...        ...       ...  \n",
       "104503                9.0          W         R  \n",
       "104504                9.0          B         R  \n",
       "104505                9.0          W         R  \n",
       "104506                8.0          W         R  \n",
       "104507                5.0          W         R  \n",
       "\n",
       "[104508 rows x 10 columns]"
      ]
     },
     "execution_count": 5,
     "metadata": {},
     "output_type": "execute_result"
    }
   ],
   "source": [
    "podatki_iz_turnirjev"
   ]
  },
  {
   "cell_type": "code",
   "execution_count": 6,
   "metadata": {},
   "outputs": [
    {
     "data": {
      "text/html": [
       "<div>\n",
       "<style scoped>\n",
       "    .dataframe tbody tr th:only-of-type {\n",
       "        vertical-align: middle;\n",
       "    }\n",
       "\n",
       "    .dataframe tbody tr th {\n",
       "        vertical-align: top;\n",
       "    }\n",
       "\n",
       "    .dataframe thead th {\n",
       "        text-align: right;\n",
       "    }\n",
       "</style>\n",
       "<table border=\"1\" class=\"dataframe\">\n",
       "  <thead>\n",
       "    <tr style=\"text-align: right;\">\n",
       "      <th></th>\n",
       "      <th>Drzava</th>\n",
       "      <th>Igralec</th>\n",
       "    </tr>\n",
       "  </thead>\n",
       "  <tbody>\n",
       "    <tr>\n",
       "      <th>0</th>\n",
       "      <td>Kitajska</td>\n",
       "      <td>An Dongxu</td>\n",
       "    </tr>\n",
       "    <tr>\n",
       "      <th>1</th>\n",
       "      <td>Kitajska</td>\n",
       "      <td>Ao Liting</td>\n",
       "    </tr>\n",
       "    <tr>\n",
       "      <th>2</th>\n",
       "      <td>Kitajska</td>\n",
       "      <td>Bai Baoxiang</td>\n",
       "    </tr>\n",
       "    <tr>\n",
       "      <th>3</th>\n",
       "      <td>Kitajska</td>\n",
       "      <td>Bai Guangyuan</td>\n",
       "    </tr>\n",
       "    <tr>\n",
       "      <th>4</th>\n",
       "      <td>Kitajska</td>\n",
       "      <td>Bai Yulin</td>\n",
       "    </tr>\n",
       "    <tr>\n",
       "      <th>...</th>\n",
       "      <td>...</td>\n",
       "      <td>...</td>\n",
       "    </tr>\n",
       "    <tr>\n",
       "      <th>2216</th>\n",
       "      <td>AI</td>\n",
       "      <td>Golaxy</td>\n",
       "    </tr>\n",
       "    <tr>\n",
       "      <th>2217</th>\n",
       "      <td>AI</td>\n",
       "      <td>Google DeepMind AlphaGo</td>\n",
       "    </tr>\n",
       "    <tr>\n",
       "      <th>2218</th>\n",
       "      <td>AI</td>\n",
       "      <td>Leela Zero</td>\n",
       "    </tr>\n",
       "    <tr>\n",
       "      <th>2219</th>\n",
       "      <td>AI</td>\n",
       "      <td>PhoenixGo</td>\n",
       "    </tr>\n",
       "    <tr>\n",
       "      <th>2220</th>\n",
       "      <td>AI</td>\n",
       "      <td>Tianrang</td>\n",
       "    </tr>\n",
       "  </tbody>\n",
       "</table>\n",
       "<p>2221 rows × 2 columns</p>\n",
       "</div>"
      ],
      "text/plain": [
       "        Drzava                  Igralec\n",
       "0     Kitajska                An Dongxu\n",
       "1     Kitajska                Ao Liting\n",
       "2     Kitajska             Bai Baoxiang\n",
       "3     Kitajska            Bai Guangyuan\n",
       "4     Kitajska                Bai Yulin\n",
       "...        ...                      ...\n",
       "2216        AI                   Golaxy\n",
       "2217        AI  Google DeepMind AlphaGo\n",
       "2218        AI               Leela Zero\n",
       "2219        AI                PhoenixGo\n",
       "2220        AI                 Tianrang\n",
       "\n",
       "[2221 rows x 2 columns]"
      ]
     },
     "execution_count": 6,
     "metadata": {},
     "output_type": "execute_result"
    }
   ],
   "source": [
    "podatki_o_narodnosti"
   ]
  },
  {
   "cell_type": "markdown",
   "metadata": {},
   "source": [
    "Preden začnemo z analizo moramo nekatere podatke obdelati. Nekateri igralci nimajo ranga (amaterski igralci, Insei ter AI), zato njihov rang nastavimo na 0, nato pa vse range spremenimo v tip int. Prav tako podatke o letu, mesecu in dnevu spremenimo v tip int. "
   ]
  },
  {
   "cell_type": "markdown",
   "metadata": {},
   "source": [
    "Na Kitajskem, Japonskem, v Tajvanu in v Koreji obstajajo profesionalni igralci Go-ja. Podobni sistemi so se pred kratkim vzpostavili tudi v Evropi in Ameriki. Oznaka Ama v podatkih označuje amaterskega igralca, Insei pa je japonsko ime za vajenca, ki se uči, da bi postal profesionalec."
   ]
  },
  {
   "cell_type": "markdown",
   "metadata": {},
   "source": [
    "Rangi za amaterske igralce se štejejo od 30kyu do 1kyu in od 1dan do 9dan. Profesionalci imajo range od 1dan do 9dan. Da se profesionalne range loči od amaterskih, se običajno označujejo z 1p, 2p, ..."
   ]
  },
  {
   "cell_type": "code",
   "execution_count": 8,
   "metadata": {},
   "outputs": [],
   "source": [
    "podatki_iz_turnirjev['igralec_crni_rang'] = podatki_iz_turnirjev['igralec_crni_rang'].fillna(0)\n",
    "podatki_iz_turnirjev['igralec_beli_rang'] = podatki_iz_turnirjev['igralec_beli_rang'].fillna(0)\n",
    "podatki_iz_turnirjev['tip_zmage'] = podatki_iz_turnirjev['tip_zmage'].fillna(0)\n",
    "podatki_iz_turnirjev.leto = podatki_iz_turnirjev.leto.astype(int)\n",
    "podatki_iz_turnirjev.mesec = podatki_iz_turnirjev.mesec.astype(int)\n",
    "podatki_iz_turnirjev.dan = podatki_iz_turnirjev.dan.astype(int)\n",
    "podatki_iz_turnirjev.igralec_beli_rang = podatki_iz_turnirjev.igralec_beli_rang.astype(int)\n",
    "podatki_iz_turnirjev.igralec_crni_rang = podatki_iz_turnirjev.igralec_crni_rang.astype(int)"
   ]
  },
  {
   "cell_type": "markdown",
   "metadata": {},
   "source": [
    "Definirajmo nekaj funkcij, s katerimi bomo lažje dostopali do informacij. dobi_leto izbere podatke iz želenega leta, izberi_polja izbere polja, ki nas zanimajo. dobi_stevilo_iger prešteje, koliko je iger."
   ]
  },
  {
   "cell_type": "code",
   "execution_count": 9,
   "metadata": {},
   "outputs": [],
   "source": [
    "def dobi_leto(leto, podatki):\n",
    "    relevantni_podatki = podatki[podatki.leto == leto]\n",
    "    return relevantni_podatki\n",
    "\n",
    "def izberi_polja(polja, podatki):\n",
    "    return podatki[polja]\n",
    "\n",
    "def dobi_stevilo_iger(podatki):\n",
    "    return podatki.shape[0]"
   ]
  },
  {
   "cell_type": "markdown",
   "metadata": {},
   "source": [
    "**Zmagovanje barv skozi leta**"
   ]
  },
  {
   "cell_type": "markdown",
   "metadata": {},
   "source": [
    "Najprej si oglejmo, kako sta barvi zmagovali čez leta"
   ]
  },
  {
   "cell_type": "code",
   "execution_count": 10,
   "metadata": {},
   "outputs": [],
   "source": [
    "bela_po_letih = []\n",
    "crna_po_letih = []\n",
    "for leto in range(1969, 2023):\n",
    "    podatki = dobi_leto(leto, podatki_iz_turnirjev)\n",
    "    podatki = podatki[podatki.zmagovalec != \"Void\"]\n",
    "    podatki = izberi_polja([\"zmagovalec\"], podatki)\n",
    "    stevilo_iger = dobi_stevilo_iger(podatki)\n",
    "    podatki = podatki[podatki.zmagovalec == \"W\"]\n",
    "    procent = dobi_stevilo_iger(podatki) / stevilo_iger\n",
    "    bela_po_letih.append(procent)\n",
    "    crna_po_letih.append(1 - procent)"
   ]
  },
  {
   "cell_type": "code",
   "execution_count": 34,
   "metadata": {},
   "outputs": [
    {
     "data": {
      "text/plain": [
       "<matplotlib.legend.Legend at 0x2385fd4edd0>"
      ]
     },
     "execution_count": 34,
     "metadata": {},
     "output_type": "execute_result"
    },
    {
     "data": {
      "image/png": "[encoded data removed]",
      "text/plain": [
       "<Figure size 720x504 with 1 Axes>"
      ]
     },
     "metadata": {
      "needs_background": "light"
     },
     "output_type": "display_data"
    }
   ],
   "source": [
    "width = 0.85\n",
    "fig = plt.subplots(figsize =(10, 7))\n",
    "p1 = plt.bar([i for i in range(1969, 2023)], bela_po_letih, width, color = \"gray\")\n",
    "p2 = plt.bar([i for i in range(1969, 2023)], crna_po_letih, width, bottom = bela_po_letih, color = \"black\")\n",
    "p3 = plt.axhline(y = 0.5, color = \"red\")\n",
    "plt.ylabel('Procent zmag')\n",
    "plt.title('Procent zmag belih in črnih igralcev čez leta')\n",
    "plt.xticks([i for i in range(1969, 2023, 10)])\n",
    "plt.xlabel(\"Leto\")\n",
    "plt.legend((p1[0], p2[0]), ('Bela', 'Črna'))"
   ]
  },
  {
   "cell_type": "markdown",
   "metadata": {},
   "source": [
    "Vidimo, da je do začetka 21. stoletja večinoma zmagovala črna, od takrat dalje pa obe barvi zmagujeta približno enako, z rahlo prednostjo bele. Zakaj pride do teh razlik v zmagah? V Go-ju prvo potezo odigra črni igralec. Zato beli dobi v zameno \"komi\", dodatne točke. Velikost komija se je skozi leta spreminjala. V letih 1969 do 2000 je bil 4.5 ali 5.5 točk, v začetku 21. stoletja pa so ga povečali na 6.5 oziroma 7.5 točk. Po vsej verjetnosti je ta razlika v velikosti komija razlog, da je najprej več zmagovala črna, nato pa sta barvi postali izenačeni."
   ]
  },
  {
   "cell_type": "markdown",
   "metadata": {},
   "source": [
    "**Pomen ranga skozi leta**"
   ]
  },
  {
   "cell_type": "markdown",
   "metadata": {},
   "source": [
    "Pomen ranga v Go-ju se je skozi zgodovini spreminjal. Čeprav je od vedno naziv profesionalnega igralca, še posebej pa rang 9p, bil pokazatelj velike mojstrskosti, ga po pridobitvi igralci ne izgubijo. Posledično so z leti mlajši igralci z nižjim rangom lahko premagali starejše."
   ]
  },
  {
   "cell_type": "code",
   "execution_count": 19,
   "metadata": {},
   "outputs": [],
   "source": [
    "verjetnost = []\n",
    "for leto in range(1969, 2023):\n",
    "    podatki = dobi_leto(leto, podatki_iz_turnirjev)\n",
    "    stevilo_iger = podatki[(podatki.igralec_crni_rang > podatki.igralec_beli_rang) | (podatki.igralec_crni_rang < podatki.igralec_beli_rang)].size\n",
    "    podatki = izberi_polja([\"igralec_crni_rang\", \"igralec_beli_rang\", \"zmagovalec\"], podatki)\n",
    "    verjetnost.append(podatki[\n",
    "        (podatki.igralec_crni_rang > podatki.igralec_beli_rang) & (podatki.zmagovalec == \"W\")\n",
    "        |\n",
    "        (podatki.igralec_crni_rang < podatki.igralec_beli_rang) & (podatki.zmagovalec == \"B\")].size / stevilo_iger)"
   ]
  },
  {
   "cell_type": "code",
   "execution_count": 33,
   "metadata": {},
   "outputs": [
    {
     "data": {
      "text/plain": [
       "Text(0.5, 1.0, 'Verjetnost zmage igralca z nižjim rangom')"
      ]
     },
     "execution_count": 33,
     "metadata": {},
     "output_type": "execute_result"
    },
    {
     "data": {
      "image/png": "[encoded data removed]",
      "text/plain": [
       "<Figure size 720x504 with 1 Axes>"
      ]
     },
     "metadata": {
      "needs_background": "light"
     },
     "output_type": "display_data"
    }
   ],
   "source": [
    "fig = plt.subplots(figsize =(10, 7))\n",
    "p = plt.plot([i for i in range(1969, 2023)], verjetnost)\n",
    "plt.xlabel(\"Leto\")\n",
    "plt.title(\"Verjetnost zmage igralca z nižjim rangom\")"
   ]
  },
  {
   "cell_type": "markdown",
   "metadata": {},
   "source": [
    "V osemdesetih in devedestih letih je prišlo do inflacij rangov, zaradi česar so države okoli leta 2005 spremenile način ocenjevanja. Nastop umetnih inteligenc po letu 2016 je zaostril razlike med najboljšimi igralci in ostalimi."
   ]
  },
  {
   "cell_type": "markdown",
   "metadata": {},
   "source": [
    "**Zmagovanje držav skozi leta**"
   ]
  },
  {
   "cell_type": "markdown",
   "metadata": {},
   "source": [
    "Poglejmo, kako so države zmagovale cez leta."
   ]
  },
  {
   "cell_type": "code",
   "execution_count": 70,
   "metadata": {},
   "outputs": [],
   "source": [
    "drzave_po_letih = [{\"Kitajska\" : 0, \"Japonska\" : 0, \"Koreja\" : 0, \"Tajvan\" : 0, \"Ostali\" : 0, \"AI\" : 0, \"vse_leta\" : 0} for _  in range(54)]\n",
    "for leto in range(1969, 2023):\n",
    "    podatki = dobi_leto(leto, podatki_iz_turnirjev)\n",
    "    podatki = izberi_polja([\"igralec_crni\", \"igralec_beli\", \"zmagovalec\"], podatki)\n",
    "    podatki = podatki[podatki.zmagovalec != \"Void\"]\n",
    "    for ind in podatki.index:\n",
    "        if podatki[\"zmagovalec\"][ind] == \"W\":\n",
    "            igralec_z = podatki[\"igralec_beli\"][ind].removesuffix(\"NR\").removesuffix(\"Ama\").removesuffix(\"Sr\").removesuffix(\"Insei\").strip()\n",
    "            igralec_p = podatki[\"igralec_crni\"][ind].removesuffix(\"NR\").removesuffix(\"Ama\").removesuffix(\"Sr\").removesuffix(\"Insei\").strip()\n",
    "        else:\n",
    "            igralec_z = podatki[\"igralec_crni\"][ind].removesuffix(\"NR\").removesuffix(\"Ama\").removesuffix(\"Sr\").removesuffix(\"Insei\").strip()\n",
    "            igralec_p = podatki[\"igralec_beli\"][ind].removesuffix(\"NR\").removesuffix(\"Ama\").removesuffix(\"Sr\").removesuffix(\"Insei\").strip()\n",
    "        drzava_z = podatki_o_narodnosti[podatki_o_narodnosti[\"Igralec\"] == igralec_z].iat[0, 0]\n",
    "        drzava_p = podatki_o_narodnosti[podatki_o_narodnosti[\"Igralec\"] == igralec_p].iat[0, 0]\n",
    "        if drzava_p != drzava_z:\n",
    "            drzave_po_letih[leto - 1969][drzava_z] += 1\n",
    "            drzave_po_letih[leto - 1969][\"vse_leta\"] += 1"
   ]
  },
  {
   "cell_type": "code",
   "execution_count": null,
   "metadata": {},
   "outputs": [],
   "source": [
    "drzave_cez_leta = {\"Kitajska\" : [], \"Japonska\" : [], \"Koreja\" : [], \"Tajvan\" : [], \"Ostali\" : [], \"AI\" : []}\n",
    "for leto in drzave_po_letih:\n",
    "    for drzava in [\"Kitajska\", \"Japonska\", \"Koreja\", \"Tajvan\", \"Ostali\", \"AI\"]:\n",
    "        if leto[\"vse_leta\"] != 0:\n",
    "            drzave_cez_leta[drzava].append(leto[drzava] / leto[\"vse_leta\"])\n",
    "        else:\n",
    "            drzave_cez_leta[drzava].append(0)"
   ]
  },
  {
   "cell_type": "code",
   "execution_count": 79,
   "metadata": {},
   "outputs": [
    {
     "data": {
      "text/plain": [
       "<matplotlib.legend.Legend at 0x238630fe620>"
      ]
     },
     "execution_count": 79,
     "metadata": {},
     "output_type": "execute_result"
    },
    {
     "data": {
      "image/png": "[encoded data removed]",
      "text/plain": [
       "<Figure size 720x504 with 1 Axes>"
      ]
     },
     "metadata": {
      "needs_background": "light"
     },
     "output_type": "display_data"
    }
   ],
   "source": [
    "width = 0.85\n",
    "fig = plt.subplots(figsize = (10, 7))\n",
    "p1 = plt.bar([i for i in range(1982, 2023)], drzave_cez_leta[\"Kitajska\"][13:], width)\n",
    "bottoms = drzave_cez_leta[\"Kitajska\"][13:]\n",
    "p2 = plt.bar([i for i in range(1982, 2023)], drzave_cez_leta[\"Japonska\"][13:], width, bottom = bottoms)\n",
    "bottoms = [x + y for x, y in zip(bottoms, drzave_cez_leta[\"Japonska\"][13:])]\n",
    "p3 = plt.bar([i for i in range(1982, 2023)], drzave_cez_leta[\"Koreja\"][13:], width, bottom = bottoms)\n",
    "bottoms = [x + y for x, y in zip(bottoms, drzave_cez_leta[\"Koreja\"][13:])]\n",
    "p4 = plt.bar([i for i in range(1982, 2023)], drzave_cez_leta[\"Tajvan\"][13:], width, bottom = bottoms)\n",
    "bottoms = [x + y for x, y in zip(bottoms, drzave_cez_leta[\"Tajvan\"][13:])]\n",
    "p5 = plt.bar([i for i in range(1982, 2023)], drzave_cez_leta[\"Ostali\"][13:], width, bottom = bottoms)\n",
    "bottoms = [x + y for x, y in zip(bottoms, drzave_cez_leta[\"Ostali\"][13:])]\n",
    "p6 = plt.bar([i for i in range(1982, 2023)], drzave_cez_leta[\"AI\"][13:], width, bottom = bottoms)\n",
    "plt.ylabel('Procent zmag')\n",
    "plt.title('Procent zmag držav čez leta')\n",
    "plt.xticks([i for i in range(1982, 2023, 10)])\n",
    "plt.xlabel(\"Leto\")\n",
    "plt.legend((p1[0], p2[0], p3[0], p4[0], p5[0], p6[0]), ('Kitajska', 'Japonska', \"Koreja\", \"Tajvan\", \"Ostali\", \"AI\"))"
   ]
  },
  {
   "cell_type": "markdown",
   "metadata": {},
   "source": [
    "Graf začnemo šele leta 1982, saj je bilo pred tem zelo malo mednarodnih iger."
   ]
  },
  {
   "cell_type": "markdown",
   "metadata": {},
   "source": [
    "Do sedemdesetih let 20. stoletja je Japonska dominirala svet Go-ja. Nato sta Kitajska in Koreja postavili svoja profesionalna sistema. Od tedaj naprej je Japonska začela zaostajati. Vodilno vlogo je najprej prevzela Kitajska, nato pa je z legendarnimi igralci kot so Lee Changho, Lee Sedol in Cho Hun-Hyun v svetovni vrh stopila še Koreja."
   ]
  },
  {
   "cell_type": "markdown",
   "metadata": {},
   "source": [
    "**Najboljši igralci**"
   ]
  },
  {
   "cell_type": "markdown",
   "metadata": {},
   "source": [
    "Oglejmo si, kateri igralci so skozi zgodovino dosegli najvišji delž zmag."
   ]
  },
  {
   "cell_type": "code",
   "execution_count": 54,
   "metadata": {},
   "outputs": [],
   "source": [
    "podatki = izberi_polja([\"igralec_crni\", \"igralec_beli\", \"zmagovalec\"], podatki_iz_turnirjev)\n",
    "rezultati_igralcev = {}\n",
    "podatki = podatki[podatki.zmagovalec != \"Void\"]\n",
    "for ind in podatki.index:\n",
    "    if podatki[\"zmagovalec\"][ind] == \"W\":\n",
    "        igralec_z = podatki[\"igralec_beli\"][ind].removesuffix(\"NR\").removesuffix(\"Ama\").removesuffix(\"Sr\").removesuffix(\"Insei\").strip()\n",
    "        igralec_p = podatki[\"igralec_crni\"][ind].removesuffix(\"NR\").removesuffix(\"Ama\").removesuffix(\"Sr\").removesuffix(\"Insei\").strip()  \n",
    "    else:\n",
    "        igralec_z = podatki[\"igralec_crni\"][ind].removesuffix(\"NR\").removesuffix(\"Ama\").removesuffix(\"Sr\").removesuffix(\"Insei\").strip()\n",
    "        igralec_p = podatki[\"igralec_beli\"][ind].removesuffix(\"NR\").removesuffix(\"Ama\").removesuffix(\"Sr\").removesuffix(\"Insei\").strip()\n",
    "    if igralec_z in rezultati_igralcev.keys():\n",
    "        rezultati_igralcev[igralec_z] = [rezultati_igralcev[igralec_z][0] + 1, rezultati_igralcev[igralec_z][1] + 1]\n",
    "    else:\n",
    "        rezultati_igralcev[igralec_z] = [1, 1]\n",
    "    if igralec_p in rezultati_igralcev.keys():\n",
    "        rezultati_igralcev[igralec_p] = [rezultati_igralcev[igralec_p][0], rezultati_igralcev[igralec_p][1] + 1]\n",
    "    else:\n",
    "        rezultati_igralcev[igralec_p] = [0, 1]"
   ]
  },
  {
   "cell_type": "markdown",
   "metadata": {},
   "source": [
    "Da ne bomo v statistiko vključili igralcev, ki so odigrali le malo iger in imajo zato visok procent zmag, se omejimo na tiste z vsaj 50 vnosi."
   ]
  },
  {
   "cell_type": "code",
   "execution_count": 55,
   "metadata": {},
   "outputs": [],
   "source": [
    "wr_igralcev = {}\n",
    "for igralec in rezultati_igralcev.keys():\n",
    "    if rezultati_igralcev[igralec][1] >= 50:\n",
    "        wr_igralcev[igralec] = rezultati_igralcev[igralec][0] / rezultati_igralcev[igralec][1]\n",
    "najbolsih_deset = sorted(wr_igralcev, key = wr_igralcev.get, reverse = True)[:10]"
   ]
  },
  {
   "cell_type": "code",
   "execution_count": 58,
   "metadata": {},
   "outputs": [
    {
     "data": {
      "text/plain": [
       "<BarContainer object of 10 artists>"
      ]
     },
     "execution_count": 58,
     "metadata": {},
     "output_type": "execute_result"
    },
    {
     "data": {
      "image/png": "[encoded data removed]",
      "text/plain": [
       "<Figure size 1440x504 with 1 Axes>"
      ]
     },
     "metadata": {
      "needs_background": "light"
     },
     "output_type": "display_data"
    }
   ],
   "source": [
    "fig = plt.subplots(figsize = (20, 7))\n",
    "plt.bar(najbolsih_deset, [wr_igralcev[igralec] for igralec in najbolsih_deset])"
   ]
  },
  {
   "cell_type": "markdown",
   "metadata": {},
   "source": [
    "Prva tri mesta zasedajo umetne intelegence. Te od leta 2016, ko je Googlov Alpha Go premagal svetovnega prvaka Lee Sedola, dominirajo. Posledica tega je, da so na mestih od 4 do 9 igralci, rojeni po letu 2000. Ti se od leta 2016 dalje učijo stila igranja najboljših programov in tako dosegajo izredno visoke procente zmag. Posebej gre omeniti Shin Jinseoja, ki je zadnja 4 leta igralec z najvišjo ELO oceno. "
   ]
  },
  {
   "cell_type": "markdown",
   "metadata": {},
   "source": [
    "Edini človeški igralec na seznamu, ki ni rojen po letu 2000, je Lee Changho. On je bil igralec z najvišjo ELO oceno med leti 1990 in 2006. "
   ]
  },
  {
   "cell_type": "markdown",
   "metadata": {},
   "source": [
    "**Ugotavljanje narodnosti igralca iz njegovega imena**"
   ]
  },
  {
   "cell_type": "markdown",
   "metadata": {},
   "source": [
    "Z uporabo nevronske mreže bomo poskusili iz imena igralca ugotoviti, iz katere države prihaja."
   ]
  },
  {
   "cell_type": "markdown",
   "metadata": {},
   "source": [
    "*Kako deluje nevronska mreža?*"
   ]
  },
  {
   "cell_type": "markdown",
   "metadata": {},
   "source": [
    "Nevronska mreža je algoritem, ki iterativno posodablja svoje parametre in s tem poskuša modelirati nelinearno zvezo med vhodnimi in izhodnimi podatki."
   ]
  },
  {
   "cell_type": "markdown",
   "metadata": {},
   "source": [
    "Naša nevronska mreža ima 4 sloje, en vhodni, en izhodni in 2 skrita sloja. Ko sprejme vhodne podateke, funkcija forward_prop iz njih dobi mrežino klasifikacijo, glede na sledeče enačbe.\n",
    "$$Z_1 = W_1\\cdot X + b_1$$\n",
    "$$A_1 = ReLU(Z_1)$$\n",
    "$$Z_2 = W_1\\cdot A_1 + b_2$$\n",
    "$$A_2 = ReLU(Z_2)$$\n",
    "$$Z_3 = W_3\\cdot A_3 + b_3$$\n",
    "$$A_3 = softmax(Z_3)$$\n",
    "Pri tem so $W_i$ matrike velikosti $m\\times n$ in $b_i$ vektorji velikosti $m\\times 1$. Funkcija $ReLU$ vrne vnešeni podatek, če je večji ali enak 0, in 0 sicer. Funkcija $softmax$ deluje po predpisu $softmax(\\hat{x}) = [\\frac{e^{x_1}}{\\sum_i e^{x_i}}, \\frac{e^{x_2}}{\\sum_i e^{x_i}}, \\dots, \\frac{e^{x_n}}{\\sum_i e^{x_i}}]$"
   ]
  },
  {
   "cell_type": "markdown",
   "metadata": {},
   "source": [
    "Nato primerjamo mrežino klasifikacije s pravimi odgovori. To nam poda napake zadnjega sloja. S sledečimi formulami nato preračunamo, kak prispevek k njim so imele parametri mreže. To opravi funkcija backprop. \n",
    "\n",
    "$$dZ_3 = A_3 - Y$$\n",
    "$$dW_3 = \\frac{1}{m}dZ_3\\cdot A_2^T$$\n",
    "$$db_3 = \\frac{1}{m}\\sum_i (dZ_3)_i$$\n",
    "\n",
    "$$dZ_2 = W_3^T\\cdot dZ_3 \\cdot (ReLU)'(Z_2)$$\n",
    "$$dW_2 = \\frac{1}{m}dZ_2\\cdot A_1^T$$\n",
    "$$db_2 = \\frac{1}{m}\\sum_i (dZ_2)_i$$\n",
    "\n",
    "$$dZ_1 = W_2^T\\cdot dZ_2 \\cdot (ReLU)'(Z_1)$$\n",
    "$$dW_1 = \\frac{1}{m}dZ_1\\cdot X^T$$\n",
    "$$db_1 = \\frac{1}{m}\\sum_i (dZ_1)_i$$\n",
    "\n",
    "Pri tem $m$ predstavlja število primerov, ki smo jih poslali skozi mrežo."
   ]
  },
  {
   "cell_type": "markdown",
   "metadata": {},
   "source": [
    "Na koncu funkcija update_params posodobi parametre mreže glede na zgoraj izračunane prispevke.\n",
    "$$W'_3 = W_3 - \\alpha\\cdot dW_3$$\n",
    "$$b'_3 = b_3 - \\alpha\\cdot db_3$$\n",
    "$$W'_2 = W_2 - \\alpha\\cdot dW_2$$\n",
    "$$b'_2 = b_2 - \\alpha\\cdot db_2$$\n",
    "$$W'_1 = W_1 - \\alpha\\cdot dW_1$$\n",
    "$$b'_1 = b_1 - \\alpha\\cdot db_1$$\n",
    "Pri tem je $\\alpha$ hiperparameter, imenovan hitrost učenja, ki ga določimo ročno."
   ]
  },
  {
   "cell_type": "markdown",
   "metadata": {},
   "source": [
    "Nato funkcija gradient_descent to iterativno ponavlja."
   ]
  },
  {
   "cell_type": "markdown",
   "metadata": {},
   "source": [
    "*Implementacija*"
   ]
  },
  {
   "cell_type": "markdown",
   "metadata": {},
   "source": [
    "Najprej moramo imena spremeniti v obliko, ki jo nevronska mreža lahko sprejme. Vsak podatek bomo predstavili z vektorjem. Na prvem imestu je indeks države, nato pa vsako črko imena predstavimo z njegovo ASCII številko. Podatke še normaliziramo."
   ]
  },
  {
   "cell_type": "code",
   "execution_count": 59,
   "metadata": {},
   "outputs": [],
   "source": [
    "max_lenght = 0\n",
    "data = podatki_o_narodnosti[(podatki_o_narodnosti.Drzava != \"Ostali\") & (podatki_o_narodnosti.Drzava != \"AI\")]\n",
    "num_names = 0\n",
    "for ind in data.index:\n",
    "    num_names += 1\n",
    "    name_lenght = len(data[\"Igralec\"][ind])\n",
    "    max_lenght = max_lenght if max_lenght > name_lenght else name_lenght\n",
    "\n",
    "index_dict = {\"Kitajska\" : 0, \"Japonska\" : 1, \"Koreja\" : 2, \"Tajvan\" : 3}\n",
    "\n",
    "encoded_names = []\n",
    "for ind in data.index:\n",
    "    encoded_name = np.zeros(max_lenght + 1)\n",
    "    encoded_name[0] = int(index_dict[data[\"Drzava\"][ind]])\n",
    "    for letter in range(0, len(data[\"Igralec\"][ind])):\n",
    "        encoded_name[letter + 1] = ord(data[\"Igralec\"][ind][letter]) / 127\n",
    "    encoded_names.append(encoded_name)\n",
    "encoded_names = np.asarray(encoded_names)"
   ]
  },
  {
   "cell_type": "markdown",
   "metadata": {},
   "source": [
    "Podatke premešamo, nato pa jih razdelimo v tiste, na katerih se bo mreža učila, ter na tiste, na katerih bomo preverjali natančnost. S testiranjem natančnosti na ločenih podatkih se prepričamo, da je program res našel način za klasifikacijo, torej da se ni le naučil pravega odgovora za vsak primer posebej."
   ]
  },
  {
   "cell_type": "code",
   "execution_count": 60,
   "metadata": {},
   "outputs": [],
   "source": [
    "np.random.shuffle(encoded_names)\n",
    "data_test = encoded_names[0:210].T\n",
    "Y_test = data_test[0]\n",
    "X_test = data_test[1:]\n",
    "\n",
    "data_train = encoded_names[210:].T\n",
    "Y_train = data_train[0].astype(int)\n",
    "X_train = data_train[1:]"
   ]
  },
  {
   "cell_type": "markdown",
   "metadata": {},
   "source": [
    "Definiramo funkcije, ki jih bomo uporabljali pri učenju. Funkcija init_params določi začetne parametre. Funkcije ReLU, deriv_ReLU, softmax, forward_prop, backprop in update_params opravljajo pripadajočo nalogo, opisano zgoraj. Funkcija one_hot sprejme pravilno klasifikacijo $i$ in vrne vektor, ki ima na $i$-tem mestu vrednost 1 in drugje 0. "
   ]
  },
  {
   "cell_type": "code",
   "execution_count": 61,
   "metadata": {},
   "outputs": [],
   "source": [
    "def init_params():\n",
    "    W1 = np.random.rand(10, 20) - 0.5\n",
    "    b1 = np.random.rand(10, 1) - 0.5\n",
    "    W2 = np.random.rand(10, 10) - 0.5\n",
    "    b2 = np.random.rand(10, 1) - 0.5\n",
    "    W3 = np.random.rand(4, 10) - 0.5\n",
    "    b3 = np.random.rand(4, 1) - 0.5\n",
    "    return W1, b1, W2, b2, W3, b3\n",
    "\n",
    "def ReLU(Z):\n",
    "    return np.maximum(0, Z)\n",
    "\n",
    "def deriv_ReLU(Z):\n",
    "    return Z > 0\n",
    "\n",
    "def softmax(Z):\n",
    "    return np.exp(Z) / np.sum(np.exp(Z))\n",
    "\n",
    "def forward_prop(W1, b1, W2, b2, W3, b3, X):\n",
    "    Z1 = W1.dot(X) + b1\n",
    "    A1 = ReLU(Z1)\n",
    "    Z2 = W2.dot(A1) + b2\n",
    "    A2 = ReLU(Z2)\n",
    "    Z3 = W3.dot(A2) + b3\n",
    "    A3 = softmax(Z3)\n",
    "    return Z1, A1, Z2, A2, Z3, A3\n",
    "\n",
    "def one_hot(Y):\n",
    "    one_hot_Y = np.zeros((Y.size, Y.max() + 1))\n",
    "    one_hot_Y[np.arange(Y.size), Y] = 1\n",
    "    one_hot_Y = one_hot_Y.T\n",
    "    return one_hot_Y\n",
    "\n",
    "def backprop(Z1, A1, Z2, A2, Z3, A3, W2, W3, X, Y):\n",
    "    m = Y.size\n",
    "    one_hot_Y = one_hot(Y)\n",
    "\n",
    "    dZ3 = A3 - one_hot_Y\n",
    "    dW3 = 1 / m * dZ3.dot(A2.T)\n",
    "    db3 = 1 / m * np.sum(dZ3)\n",
    "\n",
    "    dZ2 = W3.T.dot(dZ3) * deriv_ReLU(Z2)\n",
    "    dW2 = 1 / m * dZ2.dot(A1.T)\n",
    "    db2 = 1 / m * np.sum(dZ2)\n",
    "\n",
    "    dZ1 = W2.T.dot(dZ2) * deriv_ReLU(Z1)\n",
    "    dW1 = 1 / m * dZ1.dot(X.T)\n",
    "    db1 = 1 / m * np.sum(dZ1)\n",
    "    return dW1, db1, dW2, db2, dW3, db3\n",
    "\n",
    "def update_params(W1, b1, W2, b2, W3, b3, dW1, db1, dW2, db2, dW3, db3, alpha):\n",
    "    W1 = W1 - alpha * dW1\n",
    "    b1 = b1 - alpha * db1\n",
    "    W2 = W2 - alpha * dW2\n",
    "    b2 = b2 - alpha * db2\n",
    "    W3 = W3 - alpha * dW3\n",
    "    b3 = b3 - alpha * db3\n",
    "    return W1, b1, W2, b2, W3, b3"
   ]
  },
  {
   "cell_type": "markdown",
   "metadata": {},
   "source": [
    "Definiramo funkcijo gradientnega spusta ter pomožne funkcije za preverjanje natančnosti. "
   ]
  },
  {
   "cell_type": "code",
   "execution_count": 62,
   "metadata": {},
   "outputs": [],
   "source": [
    "def get_predictions(A):\n",
    "    return np.argmax(A, 0)\n",
    "\n",
    "def get_accuracy(predictions, Y):\n",
    "    return np.sum(predictions == Y) / Y.size\n",
    "\n",
    "def gradient_descent(X, Y, iterations, alpha):\n",
    "    W1, b1, W2, b2, W3, b3 = init_params()\n",
    "    for i in range(iterations):\n",
    "        Z1, A1, Z2, A2, Z3, A3 = forward_prop(W1, b1, W2, b2, W3, b3, X)\n",
    "        dW1, db1, dW2, db2, dW3, db3 = backprop(Z1, A1, Z2, A2, Z3, A3, W2, W3, X, Y)\n",
    "        W1, b1, W2, b2, W3, b3 = update_params(W1, b1, W2, b2, W3, b3, dW1, db1, dW2, db2, dW3, db3, alpha)\n",
    "        if i % 10 == 0:\n",
    "            print(\"Iteration: \", i)\n",
    "            print(\"Accuracy: \", get_accuracy(get_predictions(A2), Y))\n",
    "    return W1, b1, W2, b2, W3, b3\n",
    "\n",
    "def make_predictions(X, W1, b1, W2, b2, W3, b3):\n",
    "    _, _, _, _, _, A3 = forward_prop(W1, b1, W2, b2, W3, b3, X)\n",
    "    predictions = get_predictions(A3)\n",
    "    return A3"
   ]
  },
  {
   "cell_type": "markdown",
   "metadata": {},
   "source": [
    "Nevronsko mrežo učimo in dobimo končne parametre."
   ]
  },
  {
   "cell_type": "code",
   "execution_count": 68,
   "metadata": {},
   "outputs": [
    {
     "name": "stdout",
     "output_type": "stream",
     "text": [
      "Iteration:  0\n",
      "Accuracy:  0.23064770932069512\n",
      "Iteration:  10\n",
      "Accuracy:  0.23275408109531331\n",
      "Iteration:  20\n",
      "Accuracy:  0.2285413375460769\n",
      "Iteration:  30\n",
      "Accuracy:  0.2285413375460769\n",
      "Iteration:  40\n",
      "Accuracy:  0.22643496577145866\n",
      "Iteration:  50\n",
      "Accuracy:  0.22538177988414956\n",
      "Iteration:  60\n",
      "Accuracy:  0.2238020010531859\n",
      "Iteration:  70\n",
      "Accuracy:  0.2211690363349131\n",
      "Iteration:  80\n",
      "Accuracy:  0.21590310689836756\n",
      "Iteration:  90\n",
      "Accuracy:  0.2132701421800948\n",
      "Iteration:  100\n",
      "Accuracy:  0.2132701421800948\n",
      "Iteration:  110\n",
      "Accuracy:  0.2132701421800948\n",
      "Iteration:  120\n",
      "Accuracy:  0.215376513954713\n",
      "Iteration:  130\n",
      "Accuracy:  0.21642969984202212\n",
      "Iteration:  140\n",
      "Accuracy:  0.21695629278567669\n",
      "Iteration:  150\n",
      "Accuracy:  0.21379673512374933\n",
      "Iteration:  160\n",
      "Accuracy:  0.21379673512374933\n",
      "Iteration:  170\n",
      "Accuracy:  0.2143233280674039\n",
      "Iteration:  180\n",
      "Accuracy:  0.21379673512374933\n",
      "Iteration:  190\n",
      "Accuracy:  0.2132701421800948\n",
      "Iteration:  200\n",
      "Accuracy:  0.2132701421800948\n",
      "Iteration:  210\n",
      "Accuracy:  0.21274354923644023\n",
      "Iteration:  220\n",
      "Accuracy:  0.21274354923644023\n",
      "Iteration:  230\n",
      "Accuracy:  0.21221695629278567\n",
      "Iteration:  240\n",
      "Accuracy:  0.21274354923644023\n",
      "Iteration:  250\n",
      "Accuracy:  0.21221695629278567\n",
      "Iteration:  260\n",
      "Accuracy:  0.21116377040547657\n",
      "Iteration:  270\n",
      "Accuracy:  0.210637177461822\n",
      "Iteration:  280\n",
      "Accuracy:  0.21011058451816747\n",
      "Iteration:  290\n",
      "Accuracy:  0.21011058451816747\n",
      "Iteration:  300\n",
      "Accuracy:  0.21011058451816747\n",
      "Iteration:  310\n",
      "Accuracy:  0.21011058451816747\n",
      "Iteration:  320\n",
      "Accuracy:  0.21011058451816747\n",
      "Iteration:  330\n",
      "Accuracy:  0.21011058451816747\n",
      "Iteration:  340\n",
      "Accuracy:  0.21011058451816747\n",
      "Iteration:  350\n",
      "Accuracy:  0.21011058451816747\n",
      "Iteration:  360\n",
      "Accuracy:  0.21011058451816747\n",
      "Iteration:  370\n",
      "Accuracy:  0.21011058451816747\n",
      "Iteration:  380\n",
      "Accuracy:  0.21011058451816747\n",
      "Iteration:  390\n",
      "Accuracy:  0.21011058451816747\n",
      "Iteration:  400\n",
      "Accuracy:  0.21011058451816747\n",
      "Iteration:  410\n",
      "Accuracy:  0.21011058451816747\n",
      "Iteration:  420\n",
      "Accuracy:  0.21011058451816747\n",
      "Iteration:  430\n",
      "Accuracy:  0.21011058451816747\n",
      "Iteration:  440\n",
      "Accuracy:  0.21011058451816747\n",
      "Iteration:  450\n",
      "Accuracy:  0.21011058451816747\n",
      "Iteration:  460\n",
      "Accuracy:  0.21011058451816747\n",
      "Iteration:  470\n",
      "Accuracy:  0.21011058451816747\n",
      "Iteration:  480\n",
      "Accuracy:  0.21011058451816747\n",
      "Iteration:  490\n",
      "Accuracy:  0.21011058451816747\n"
     ]
    }
   ],
   "source": [
    "W1, b1, W2, b2, W3, b3 = gradient_descent(X_train, Y_train, iterations = 500, alpha = 0.001)"
   ]
  },
  {
   "cell_type": "code",
   "execution_count": 69,
   "metadata": {},
   "outputs": [
    {
     "data": {
      "text/plain": [
       "0.047619047619047616"
      ]
     },
     "execution_count": 69,
     "metadata": {},
     "output_type": "execute_result"
    }
   ],
   "source": [
    "get_accuracy(get_predictions(X_test), Y_test)"
   ]
  },
  {
   "cell_type": "markdown",
   "metadata": {},
   "source": [
    "Rezultati mreže so slabi. Razlogov za to je več. Vrsta mreže in predpriprava podatkov verjetno nista primerna za besedne vhodne podatke. Samih podatkov je relativno malo. Vlogo lahko igra tudi izbira aktivacijske funkcije ReLU, saj je zelo podobna linearni."
   ]
  },
  {
   "cell_type": "markdown",
   "metadata": {},
   "source": [
    "**Zaključek**"
   ]
  },
  {
   "cell_type": "markdown",
   "metadata": {},
   "source": [
    "Ugotovili smo, kako sta skozi čas zmagovali bela in črna barva. Raziskali smo vpliv ranga igralcev na zmagovalca in spremljali rezultate držav na mednarodnih tekmovanjih skozi čas. Poiskali smo najbolše igralce ter razmislili, zakaj nova generacija profesionalcev tako prednjači po procentu zmag."
   ]
  },
  {
   "cell_type": "markdown",
   "metadata": {},
   "source": [
    "Za konec smo poskusili naučiti nevronsko mrežo, da bi znala igralce klasificirati po narodnosti glede na ime. Zaradi številnih slabih izbir žal nismo bili uspešni."
   ]
  }
 ],
 "metadata": {
  "kernelspec": {
   "display_name": "Python 3.10.6 64-bit (windows store)",
   "language": "python",
   "name": "python3"
  },
  "language_info": {
   "codemirror_mode": {
    "name": "ipython",
    "version": 3
   },
   "file_extension": ".py",
   "mimetype": "text/x-python",
   "name": "python",
   "nbconvert_exporter": "python",
   "pygments_lexer": "ipython3",
   "version": "3.10.6"
  },
  "orig_nbformat": 4,
  "vscode": {
   "interpreter": {
    "hash": "52775a9f58cdbe3e33a16d715c180515d430d05e83a4298979c72059f6243fd3"
   }
  }
 },
 "nbformat": 4,
 "nbformat_minor": 2
}
