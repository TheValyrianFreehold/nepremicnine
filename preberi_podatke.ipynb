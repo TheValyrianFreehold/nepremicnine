{
 "cells": [
  {
   "cell_type": "code",
   "execution_count": 1,
   "metadata": {},
   "outputs": [],
   "source": [
    "import os\n",
    "import re\n",
    "import csv\n",
    "import pandas as pd"
   ]
  },
  {
   "cell_type": "code",
   "execution_count": 2,
   "metadata": {},
   "outputs": [],
   "source": [
    "def pripravi_imenik(ime_datoteke):\n",
    "    imenik = os.path.dirname(ime_datoteke)\n",
    "    if imenik:\n",
    "        os.makedirs(imenik, exist_ok=True)\n",
    "\n",
    "def zapisi_csv(slovarji, imena_polj, ime_datoteke):\n",
    "    pripravi_imenik(ime_datoteke)\n",
    "    with open(ime_datoteke, 'w', encoding='utf-8') as csv_datoteka:\n",
    "        writer = csv.DictWriter(csv_datoteka, fieldnames=imena_polj)\n",
    "        writer.writeheader()\n",
    "        writer.writerows(slovarji)\n",
    "\n",
    "def vsebina_datoteke(ime_datoteke):\n",
    "    with open(ime_datoteke, encoding='utf-8') as datoteka:\n",
    "        return datoteka.read()\n",
    "\n",
    "indeksi_po_letih = [57, 5, 8, 8, 8, 9, 11, 12, 11, 13, 11, 12, 12, 13, 15, 14, 22,\n",
    "18, 21, 28, 31, 36, 36, 34, 40, 36, 36, 36, 32, 31, 41, 53, 62, 57, 67, 62, 82, \n",
    "102, 113, 106, 109, 99, 105, 131, 140, 140, 165, 173, 172, 189, 188, 184, 197, 118]"
   ]
  },
  {
   "cell_type": "code",
   "execution_count": 90,
   "metadata": {},
   "outputs": [],
   "source": [
    "vzorec_bloka_igre = re.compile(\n",
    "    r'<td colspan=\"6\"><img src=\"/images/whiteball.gif\">.*?<img src=\"/images/printer.gif\"></a></td>',\n",
    "    flags = re.DOTALL\n",
    ")\n",
    "vzorec_igre = re.compile(\n",
    "    r'&nbsp;&nbsp;\\[(?P<leto>.*?)\\-(?P<mesec>.*?)\\-(?P<dan>.*?)\\]&nbsp;'\n",
    "    r'&nbsp;(?P<turnir>.*?)\\n.*?</td>.*?'\n",
    "    r'<td style=\"text-align:center;\"><?b?>?(?P<igralec_crni>\\D*)(?P<igralec_crni_rang>..).*?</td>.*?'\n",
    "    r'<td style=\"text-align:center;\"><?b?>?(?P<igralec_beli>\\D*)(?P<igralec_beli_rang>..).*?</td>.*?'\n",
    "    r'<td style=\"text-align:center;\">(?P<zmagovalec>\\w*)\\+?(?P<tip_zmage>.*?)</td>',\n",
    "    flags = re.DOTALL)\n",
    "vzorec_bloka_narodnosti = re.compile(\n",
    "    r'<select name=\"p\" size=\"6\" style=\"width:200px; font-size:87.5%; font-family:serif; margin:10px;\">.*?<input type=\"submit\" value=\"Search\">',\n",
    "    flags = re.DOTALL)\n",
    "vzorec_igralca = re.compile(\n",
    "    r'<option value=\".*?\">(?P<igralec>.*?)\\s\\(.*?\\)')"
   ]
  },
  {
   "cell_type": "code",
   "execution_count": 31,
   "metadata": {},
   "outputs": [],
   "source": [
    "igre = []\n",
    "for i in range(len(indeksi_po_letih)):\n",
    "    leto = str(1969 + i)\n",
    "    for j in range(indeksi_po_letih[i]):\n",
    "        stran = vsebina_datoteke(\"podatki/\" + leto + \"/\" + str(j) + \".html\")\n",
    "        for blok in vzorec_bloka_igre.finditer(stran):\n",
    "            igre.append(vzorec_igre.search(blok.group(0)).groupdict())"
   ]
  },
  {
   "cell_type": "code",
   "execution_count": 92,
   "metadata": {},
   "outputs": [],
   "source": [
    "igralci_po_narodnosti = []\n",
    "stran = vsebina_datoteke(\"podatki/igralci_po_narodnosti.html\")\n",
    "for blok in vzorec_bloka_narodnosti.findall(stran):\n",
    "    igralci_po_narodnosti.append(vzorec_igralca.findall(blok))"
   ]
  },
  {
   "cell_type": "code",
   "execution_count": 98,
   "metadata": {},
   "outputs": [],
   "source": [
    "zapisi_csv(igre, \n",
    "[\"leto\", \"mesec\", \"dan\", \"turnir\",\n",
    "\"igralec_crni\", \"igralec_crni_rang\", \"igralec_beli\",\n",
    "\"igralec_beli_rang\", \"zmagovalec\", \"tip_zmage\"], \n",
    "\"osnovni_podatki.csv\")"
   ]
  },
  {
   "cell_type": "code",
   "execution_count": null,
   "metadata": {},
   "outputs": [],
   "source": [
    "osnovni_podatki = pd.read_csv(\"osnovni_podatki.csv\")\n",
    "osnovni_podatki"
   ]
  },
  {
   "cell_type": "code",
   "execution_count": 102,
   "metadata": {},
   "outputs": [],
   "source": [
    "dict_igralci_po_narodnosti = []\n",
    "drzave = [\"Kitajska\", \"Koreja\", \"Japonska\", \"Tajvan\", \"Ostali\", \"AI\"]\n",
    "for i in range(len(igralci_po_narodnosti)):\n",
    "    for igralec in igralci_po_narodnosti[i]:\n",
    "        dict_igralci_po_narodnosti.append({\"Država\" : drzave[i], \"Igralec\" : igralec})"
   ]
  },
  {
   "cell_type": "code",
   "execution_count": 103,
   "metadata": {},
   "outputs": [],
   "source": [
    "zapisi_csv(dict_igralci_po_narodnosti, \n",
    "[\"Država\", \"Igralec\"], \n",
    "\"podatki_o_narodnosti.csv\")"
   ]
  },
  {
   "cell_type": "code",
   "execution_count": 104,
   "metadata": {},
   "outputs": [
    {
     "data": {
      "text/html": [
       "<div>\n",
       "<style scoped>\n",
       "    .dataframe tbody tr th:only-of-type {\n",
       "        vertical-align: middle;\n",
       "    }\n",
       "\n",
       "    .dataframe tbody tr th {\n",
       "        vertical-align: top;\n",
       "    }\n",
       "\n",
       "    .dataframe thead th {\n",
       "        text-align: right;\n",
       "    }\n",
       "</style>\n",
       "<table border=\"1\" class=\"dataframe\">\n",
       "  <thead>\n",
       "    <tr style=\"text-align: right;\">\n",
       "      <th></th>\n",
       "      <th>Država</th>\n",
       "      <th>Igralec</th>\n",
       "    </tr>\n",
       "  </thead>\n",
       "  <tbody>\n",
       "    <tr>\n",
       "      <th>0</th>\n",
       "      <td>Kitajska</td>\n",
       "      <td>An Dongxu</td>\n",
       "    </tr>\n",
       "    <tr>\n",
       "      <th>1</th>\n",
       "      <td>Kitajska</td>\n",
       "      <td>Ao Liting</td>\n",
       "    </tr>\n",
       "    <tr>\n",
       "      <th>2</th>\n",
       "      <td>Kitajska</td>\n",
       "      <td>Bai Baoxiang</td>\n",
       "    </tr>\n",
       "    <tr>\n",
       "      <th>3</th>\n",
       "      <td>Kitajska</td>\n",
       "      <td>Bai Guangyuan</td>\n",
       "    </tr>\n",
       "    <tr>\n",
       "      <th>4</th>\n",
       "      <td>Kitajska</td>\n",
       "      <td>Bai Yulin</td>\n",
       "    </tr>\n",
       "    <tr>\n",
       "      <th>...</th>\n",
       "      <td>...</td>\n",
       "      <td>...</td>\n",
       "    </tr>\n",
       "    <tr>\n",
       "      <th>2216</th>\n",
       "      <td>AI</td>\n",
       "      <td>Golaxy</td>\n",
       "    </tr>\n",
       "    <tr>\n",
       "      <th>2217</th>\n",
       "      <td>AI</td>\n",
       "      <td>Google DeepMind AlphaGo</td>\n",
       "    </tr>\n",
       "    <tr>\n",
       "      <th>2218</th>\n",
       "      <td>AI</td>\n",
       "      <td>Leela Zero</td>\n",
       "    </tr>\n",
       "    <tr>\n",
       "      <th>2219</th>\n",
       "      <td>AI</td>\n",
       "      <td>PhoenixGo</td>\n",
       "    </tr>\n",
       "    <tr>\n",
       "      <th>2220</th>\n",
       "      <td>AI</td>\n",
       "      <td>Tianrang</td>\n",
       "    </tr>\n",
       "  </tbody>\n",
       "</table>\n",
       "<p>2221 rows × 2 columns</p>\n",
       "</div>"
      ],
      "text/plain": [
       "        Država                  Igralec\n",
       "0     Kitajska                An Dongxu\n",
       "1     Kitajska                Ao Liting\n",
       "2     Kitajska             Bai Baoxiang\n",
       "3     Kitajska            Bai Guangyuan\n",
       "4     Kitajska                Bai Yulin\n",
       "...        ...                      ...\n",
       "2216        AI                   Golaxy\n",
       "2217        AI  Google DeepMind AlphaGo\n",
       "2218        AI               Leela Zero\n",
       "2219        AI                PhoenixGo\n",
       "2220        AI                 Tianrang\n",
       "\n",
       "[2221 rows x 2 columns]"
      ]
     },
     "execution_count": 104,
     "metadata": {},
     "output_type": "execute_result"
    }
   ],
   "source": [
    "osnovni_podatki = pd.read_csv(\"podatki_o_narodnosti.csv\")\n",
    "osnovni_podatki"
   ]
  }
 ],
 "metadata": {
  "kernelspec": {
   "display_name": "Python 3.10.6 64-bit (windows store)",
   "language": "python",
   "name": "python3"
  },
  "language_info": {
   "codemirror_mode": {
    "name": "ipython",
    "version": 3
   },
   "file_extension": ".py",
   "mimetype": "text/x-python",
   "name": "python",
   "nbconvert_exporter": "python",
   "pygments_lexer": "ipython3",
   "version": "3.10.6"
  },
  "orig_nbformat": 4,
  "vscode": {
   "interpreter": {
    "hash": "52775a9f58cdbe3e33a16d715c180515d430d05e83a4298979c72059f6243fd3"
   }
  }
 },
 "nbformat": 4,
 "nbformat_minor": 2
}
